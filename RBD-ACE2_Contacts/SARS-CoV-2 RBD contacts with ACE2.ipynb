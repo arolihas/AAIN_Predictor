{
 "cells": [
  {
   "cell_type": "markdown",
   "id": "2bcf9ef7",
   "metadata": {},
   "source": [
    "# Contacts between SARS-CoV-2 and ACE2\n",
    "\n",
    "To better understand the complex between the RBD and ACE2, we did some analysis of contacts between RBD and ACE2. Using the Bio.PDB Python library, I was able to find all contacts between the SARS-CoV-2 RBD and ACE2 using the 6M0J structure. For our purposes, if a residue C Alpha atom is within 7 Angstroms of another residue of C Alpha atom, the two residues are considered in contact. Results showed that there are 16 contacts."
   ]
  },
  {
   "cell_type": "code",
   "execution_count": 67,
   "id": "27d7571e",
   "metadata": {},
   "outputs": [],
   "source": [
    "from tabulate import tabulate\n",
    "import numpy as np\n",
    "from Bio.PDB import *"
   ]
  },
  {
   "cell_type": "code",
   "execution_count": 69,
   "id": "5c84ab85",
   "metadata": {},
   "outputs": [],
   "source": [
    "parser = PDBParser(PERMISSIVE=True, QUIET=True)\n",
    "data = parser.get_structure(\"6M0J\", \"6M0J.pdb\")\n",
    "model = data.get_models()\n",
    "\n",
    "models = list(model)\n",
    "chains = list(models[0].get_chains())\n",
    "residuesA = list(chains[0].get_residues())\n",
    "residuesE = list(chains[1].get_residues())\n",
    "# residue identifier, atom\n",
    "cAlphaA = [[], []]\n",
    "cAlphaE = [[], []]\n",
    "for i in range(len(residuesA)):\n",
    "    atoms = list(residuesA[i].get_atoms())\n",
    "    for j in range(len(atoms)):\n",
    "        if atoms[j].get_id() == \"CA\":\n",
    "            cAlphaA[0].append(residuesA[i].get_resname() + str(residuesA[i].get_id()[1]))\n",
    "            cAlphaA[1].append(atoms[j])\n",
    "            break\n",
    "for i in range(len(residuesE)):\n",
    "    atoms = list(residuesE[i].get_atoms())\n",
    "    for j in range(len(atoms)):\n",
    "        if atoms[j].get_id() == \"CA\":\n",
    "            cAlphaE[0].append(residuesE[i].get_resname() + str(residuesE[i].get_id()[1]))\n",
    "            cAlphaE[1].append(atoms[j])\n",
    "            break\n",
    "\n",
    "# RBD residue, count contacts with ACE2, list of contacted residues\n",
    "data = [[], [], []]\n",
    "\n",
    "countTot = 0\n",
    "for i in range(len(cAlphaE[0])):\n",
    "    count = 0\n",
    "    contacts = \"\"\n",
    "    for j in range(len(cAlphaA[0])):\n",
    "        if(cAlphaE[1][i] - cAlphaA[1][j]) <= 7:\n",
    "            count += 1\n",
    "            countTot += 1\n",
    "            contacts += cAlphaA[0][j] + \" \" + str(int((cAlphaE[1][i] - cAlphaA[1][j])*100)/100) + \"\\n\"\n",
    "    contacts = contacts[:len(contacts)-2]\n",
    "    if count > 0:\n",
    "        data[0].append(cAlphaE[0][i])\n",
    "        data[1].append(count)\n",
    "        data[2].append(contacts)\n",
    "\n",
    "aceRes = dict()\n",
    "for i in range(len(data[2])):\n",
    "    res = data[2][i].split(\"\\n\")\n",
    "    for s in res:\n",
    "        if s.split(\" \")[0] in aceRes:\n",
    "            aceRes[s.split(\" \")[0]] += 1\n",
    "        else:\n",
    "            aceRes[s.split(\" \")[0]] = 1\n",
    "\n",
    "dataInRows = []\n",
    "for i in range(len(data[0])):\n",
    "    arr = [str(data[0][i]) + \"(\" + str(data[1][i]) + \")\", data[2][i]]\n",
    "    dataInRows.append(arr)"
   ]
  },
  {
   "cell_type": "code",
   "execution_count": 70,
   "id": "46bbeb09",
   "metadata": {
    "scrolled": true
   },
   "outputs": [
    {
     "name": "stdout",
     "output_type": "stream",
     "text": [
      "Total Contacts: 16\n",
      "Cutoff Distance: 7 Angstroms\n",
      "\n",
      "8 RBD Contact Residues: ALA475(1) GLY476(2) GLY496(1) THR500(2) ASN501(3) GLY502(4) GLY504(1) TYR505(2) \n",
      "7 ACE2 Contact Residues: GLN24(2) SER19(1) ASP38(1) GLY326(2) ASP355(3) LYS353(3) GLY354(4) \n",
      "\n",
      "RBD Residue    ACE2 Residues\n",
      "-------------  ---------------\n",
      "ALA475(1)      GLN24 6.1\n",
      "GLY476(2)      SER19 6.17\n",
      "               GLN24 6.4\n",
      "GLY496(1)      ASP38 6.7\n",
      "THR500(2)      GLY326 6.58\n",
      "               ASP355 6.6\n",
      "ASN501(3)      LYS353 5.5\n",
      "               GLY354 5.81\n",
      "               ASP355 5.2\n",
      "GLY502(4)      GLY326 6.55\n",
      "               LYS353 6.03\n",
      "               GLY354 4.11\n",
      "               ASP355 5.1\n",
      "GLY504(1)      GLY354 6.7\n",
      "TYR505(2)      LYS353 5.74\n",
      "               GLY354 6.6\n"
     ]
    }
   ],
   "source": [
    "print(\"Total Contacts: \" + str(countTot))\n",
    "print(\"Cutoff Distance: 7 Angstroms\")\n",
    "print()\n",
    "print(str(len(data[0])) + \" RBD Contact Residues:\", end=\" \")\n",
    "for i in range(len(data[0])):\n",
    "    print(str(data[0][i]) + \"(\" + str(data[1][i]) + \")\", end=\" \")\n",
    "print()\n",
    "print(str(len(aceRes)) + \" ACE2 Contact Residues:\", end = \" \")\n",
    "for c in aceRes:\n",
    "    print(str(c.split(\" \")[0]) + \"(\" + str(aceRes[c]) + \")\", end=\" \")\n",
    "print()\n",
    "print()\n",
    "print(tabulate((dataInRows), headers=[\"RBD Residue\", \"ACE2 Residues\"]))"
   ]
  }
 ],
 "metadata": {
  "kernelspec": {
   "display_name": "Python 3 (ipykernel)",
   "language": "python",
   "name": "python3"
  },
  "language_info": {
   "codemirror_mode": {
    "name": "ipython",
    "version": 3
   },
   "file_extension": ".py",
   "mimetype": "text/x-python",
   "name": "python",
   "nbconvert_exporter": "python",
   "pygments_lexer": "ipython3",
   "version": "3.10.1"
  }
 },
 "nbformat": 4,
 "nbformat_minor": 5
}
